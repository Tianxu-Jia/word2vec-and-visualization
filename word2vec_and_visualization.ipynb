{
 "cells": [
  {
   "cell_type": "code",
   "execution_count": 1,
   "metadata": {
    "collapsed": true
   },
   "outputs": [],
   "source": [
    "import numpy as np\n",
    "import os\n",
    "from random import shuffle\n",
    "import re"
   ]
  },
  {
   "cell_type": "code",
   "execution_count": 2,
   "metadata": {
    "collapsed": false
   },
   "outputs": [
    {
     "data": {
      "text/html": [
       "\n",
       "    <div class=\"bk-root\">\n",
       "        <a href=\"http://bokeh.pydata.org\" target=\"_blank\" class=\"bk-logo bk-logo-small bk-logo-notebook\"></a>\n",
       "        <span id=\"b21d35cf-018e-48ad-805f-1a07c5e467d8\">Loading BokehJS ...</span>\n",
       "    </div>"
      ]
     },
     "metadata": {},
     "output_type": "display_data"
    },
    {
     "data": {
      "application/javascript": [
       "\n",
       "(function(global) {\n",
       "  function now() {\n",
       "    return new Date();\n",
       "  }\n",
       "\n",
       "  var force = true;\n",
       "\n",
       "  if (typeof (window._bokeh_onload_callbacks) === \"undefined\" || force === true) {\n",
       "    window._bokeh_onload_callbacks = [];\n",
       "    window._bokeh_is_loading = undefined;\n",
       "  }\n",
       "\n",
       "\n",
       "  \n",
       "  if (typeof (window._bokeh_timeout) === \"undefined\" || force === true) {\n",
       "    window._bokeh_timeout = Date.now() + 5000;\n",
       "    window._bokeh_failed_load = false;\n",
       "  }\n",
       "\n",
       "  var NB_LOAD_WARNING = {'data': {'text/html':\n",
       "     \"<div style='background-color: #fdd'>\\n\"+\n",
       "     \"<p>\\n\"+\n",
       "     \"BokehJS does not appear to have successfully loaded. If loading BokehJS from CDN, this \\n\"+\n",
       "     \"may be due to a slow or bad network connection. Possible fixes:\\n\"+\n",
       "     \"</p>\\n\"+\n",
       "     \"<ul>\\n\"+\n",
       "     \"<li>re-rerun `output_notebook()` to attempt to load from CDN again, or</li>\\n\"+\n",
       "     \"<li>use INLINE resources instead, as so:</li>\\n\"+\n",
       "     \"</ul>\\n\"+\n",
       "     \"<code>\\n\"+\n",
       "     \"from bokeh.resources import INLINE\\n\"+\n",
       "     \"output_notebook(resources=INLINE)\\n\"+\n",
       "     \"</code>\\n\"+\n",
       "     \"</div>\"}};\n",
       "\n",
       "  function display_loaded() {\n",
       "    if (window.Bokeh !== undefined) {\n",
       "      var el = document.getElementById(\"b21d35cf-018e-48ad-805f-1a07c5e467d8\");\n",
       "      el.textContent = \"BokehJS \" + Bokeh.version + \" successfully loaded.\";\n",
       "    } else if (Date.now() < window._bokeh_timeout) {\n",
       "      setTimeout(display_loaded, 100)\n",
       "    }\n",
       "  }\n",
       "\n",
       "  function run_callbacks() {\n",
       "    try {\n",
       "      window._bokeh_onload_callbacks.forEach(function(callback) { callback() });\n",
       "    }\n",
       "    finally {\n",
       "      delete window._bokeh_onload_callbacks\n",
       "    }\n",
       "    console.info(\"Bokeh: all callbacks have finished\");\n",
       "  }\n",
       "\n",
       "  function load_libs(js_urls, callback) {\n",
       "    window._bokeh_onload_callbacks.push(callback);\n",
       "    if (window._bokeh_is_loading > 0) {\n",
       "      console.log(\"Bokeh: BokehJS is being loaded, scheduling callback at\", now());\n",
       "      return null;\n",
       "    }\n",
       "    if (js_urls == null || js_urls.length === 0) {\n",
       "      run_callbacks();\n",
       "      return null;\n",
       "    }\n",
       "    console.log(\"Bokeh: BokehJS not loaded, scheduling load and callback at\", now());\n",
       "    window._bokeh_is_loading = js_urls.length;\n",
       "    for (var i = 0; i < js_urls.length; i++) {\n",
       "      var url = js_urls[i];\n",
       "      var s = document.createElement('script');\n",
       "      s.src = url;\n",
       "      s.async = false;\n",
       "      s.onreadystatechange = s.onload = function() {\n",
       "        window._bokeh_is_loading--;\n",
       "        if (window._bokeh_is_loading === 0) {\n",
       "          console.log(\"Bokeh: all BokehJS libraries loaded\");\n",
       "          run_callbacks()\n",
       "        }\n",
       "      };\n",
       "      s.onerror = function() {\n",
       "        console.warn(\"failed to load library \" + url);\n",
       "      };\n",
       "      console.log(\"Bokeh: injecting script tag for BokehJS library: \", url);\n",
       "      document.getElementsByTagName(\"head\")[0].appendChild(s);\n",
       "    }\n",
       "  };var element = document.getElementById(\"b21d35cf-018e-48ad-805f-1a07c5e467d8\");\n",
       "  if (element == null) {\n",
       "    console.log(\"Bokeh: ERROR: autoload.js configured with elementid 'b21d35cf-018e-48ad-805f-1a07c5e467d8' but no matching script tag was found. \")\n",
       "    return false;\n",
       "  }\n",
       "\n",
       "  var js_urls = [\"https://cdn.pydata.org/bokeh/release/bokeh-0.12.6.min.js\", \"https://cdn.pydata.org/bokeh/release/bokeh-widgets-0.12.6.min.js\"];\n",
       "\n",
       "  var inline_js = [\n",
       "    function(Bokeh) {\n",
       "      Bokeh.set_log_level(\"info\");\n",
       "    },\n",
       "    \n",
       "    function(Bokeh) {\n",
       "      \n",
       "    },\n",
       "    \n",
       "    function(Bokeh) {\n",
       "      \n",
       "      document.getElementById(\"b21d35cf-018e-48ad-805f-1a07c5e467d8\").textContent = \"BokehJS is loading...\";\n",
       "    },\n",
       "    function(Bokeh) {\n",
       "      console.log(\"Bokeh: injecting CSS: https://cdn.pydata.org/bokeh/release/bokeh-0.12.6.min.css\");\n",
       "      Bokeh.embed.inject_css(\"https://cdn.pydata.org/bokeh/release/bokeh-0.12.6.min.css\");\n",
       "      console.log(\"Bokeh: injecting CSS: https://cdn.pydata.org/bokeh/release/bokeh-widgets-0.12.6.min.css\");\n",
       "      Bokeh.embed.inject_css(\"https://cdn.pydata.org/bokeh/release/bokeh-widgets-0.12.6.min.css\");\n",
       "    }\n",
       "  ];\n",
       "\n",
       "  function run_inline_js() {\n",
       "    \n",
       "    if ((window.Bokeh !== undefined) || (force === true)) {\n",
       "      for (var i = 0; i < inline_js.length; i++) {\n",
       "        inline_js[i](window.Bokeh);\n",
       "      }if (force === true) {\n",
       "        display_loaded();\n",
       "      }} else if (Date.now() < window._bokeh_timeout) {\n",
       "      setTimeout(run_inline_js, 100);\n",
       "    } else if (!window._bokeh_failed_load) {\n",
       "      console.log(\"Bokeh: BokehJS failed to load within specified timeout.\");\n",
       "      window._bokeh_failed_load = true;\n",
       "    } else if (force !== true) {\n",
       "      var cell = $(document.getElementById(\"b21d35cf-018e-48ad-805f-1a07c5e467d8\")).parents('.cell').data().cell;\n",
       "      cell.output_area.append_execute_result(NB_LOAD_WARNING)\n",
       "    }\n",
       "\n",
       "  }\n",
       "\n",
       "  if (window._bokeh_is_loading === 0) {\n",
       "    console.log(\"Bokeh: BokehJS loaded, going straight to plotting\");\n",
       "    run_inline_js();\n",
       "  } else {\n",
       "    load_libs(js_urls, function() {\n",
       "      console.log(\"Bokeh: BokehJS plotting callback run at\", now());\n",
       "      run_inline_js();\n",
       "    });\n",
       "  }\n",
       "}(this));"
      ]
     },
     "metadata": {},
     "output_type": "display_data"
    }
   ],
   "source": [
    "from bokeh.models import ColumnDataSource, LabelSet\n",
    "from bokeh.plotting import figure, show, output_file\n",
    "from bokeh.io import output_notebook\n",
    "output_notebook()"
   ]
  },
  {
   "cell_type": "code",
   "execution_count": 3,
   "metadata": {
    "collapsed": true
   },
   "outputs": [],
   "source": [
    "import urllib.request\n",
    "import zipfile\n",
    "import lxml.etree"
   ]
  },
  {
   "cell_type": "code",
   "execution_count": 4,
   "metadata": {
    "collapsed": true
   },
   "outputs": [],
   "source": [
    "# Download the dataset if it's not already there: this may take a minute as it is 75MB\n",
    "if not os.path.isfile('ted_en-20160408.zip'):\n",
    "    urllib.request.urlretrieve(\"https://wit3.fbk.eu/get.php?path=XML_releases/xml/ted_en-20160408.zip&filename=ted_en-20160408.zip\", \n",
    "                               filename=\"ted_en-20160408.zip\")\n"
   ]
  },
  {
   "cell_type": "code",
   "execution_count": 5,
   "metadata": {
    "collapsed": true
   },
   "outputs": [],
   "source": [
    "# For now, we're only interested in the subtitle text, so let's extract that from the XML:\n",
    "with zipfile.ZipFile('ted_en-20160408.zip', 'r') as z:\n",
    "    doc = lxml.etree.parse(z.open('ted_en-20160408.xml', 'r'))\n",
    "input_text = '\\n'.join(doc.xpath('//content/text()'))\n",
    "del doc"
   ]
  },
  {
   "cell_type": "code",
   "execution_count": 6,
   "metadata": {
    "collapsed": false
   },
   "outputs": [
    {
     "data": {
      "text/plain": [
       "' baby does.\\n(Video) Hyowon Gweon: See this? (Ball squeaks) Did you see that? (Ball squeaks) Cool. See this one? (Ball squeaks) Wow.\\nLaura Schulz: Told you. (Laughs)\\n(Vide'"
      ]
     },
     "execution_count": 6,
     "metadata": {},
     "output_type": "execute_result"
    }
   ],
   "source": [
    "i = input_text.find(\"Hyowon Gweon: See this?\")\n",
    "input_text[i-20:i+150]"
   ]
  },
  {
   "cell_type": "code",
   "execution_count": 8,
   "metadata": {
    "collapsed": false
   },
   "outputs": [
    {
     "data": {
      "text/plain": [
       "\"hat the baby does.\\n Hyowon Gweon: See this?  Did you see that?  Cool. See this one?  Wow.\\nLaura Schulz: Told you. \\n HG: See this one?  Hey Clara, this one's for you. You \""
      ]
     },
     "execution_count": 8,
     "metadata": {},
     "output_type": "execute_result"
    }
   ],
   "source": [
    "input_text_noparens = re.sub(r'\\([^)]*\\)', '', input_text)\n",
    "i = input_text_noparens.find(\"Hyowon Gweon: See this?\")\n",
    "input_text_noparens[i-20:i+150]"
   ]
  },
  {
   "cell_type": "code",
   "execution_count": 9,
   "metadata": {
    "collapsed": false
   },
   "outputs": [
    {
     "data": {
      "text/plain": [
       "[\"Here are two reasons companies fail: they only do more of the same, or they only do what's new\",\n",
       " 'To me the real, real solution to quality growth is figuring out the balance between two activities: exploration and exploitation',\n",
       " ' Both are necessary, but it can be too much of a good thing',\n",
       " 'Consider Facit',\n",
       " \" I'm actually old enough to remember them\"]"
      ]
     },
     "execution_count": 9,
     "metadata": {},
     "output_type": "execute_result"
    }
   ],
   "source": [
    "sentences_strings_ted = []\n",
    "for line in input_text_noparens.split('\\n'):\n",
    "    m = re.match(r'^(?:(?P<precolon>[^:]{,20}):)?(?P<postcolon>.*)$', line)\n",
    "    sentences_strings_ted.extend(sent for sent in m.groupdict()['postcolon'].split('.') if sent)\n",
    "\n",
    "# Uncomment if you need to save some RAM: these strings are about 50MB.\n",
    "# del input_text, input_text_noparens\n",
    "\n",
    "# Let's view the first few:\n",
    "sentences_strings_ted[:5]"
   ]
  },
  {
   "cell_type": "code",
   "execution_count": 10,
   "metadata": {
    "collapsed": true
   },
   "outputs": [],
   "source": [
    "sentences_ted = []\n",
    "for sent_str in sentences_strings_ted:\n",
    "    tokens = re.sub(r\"[^a-z0-9]+\", \" \", sent_str.lower()).split()\n",
    "    sentences_ted.append(tokens)\n"
   ]
  },
  {
   "cell_type": "code",
   "execution_count": 11,
   "metadata": {
    "collapsed": false
   },
   "outputs": [
    {
     "data": {
      "text/plain": [
       "266694"
      ]
     },
     "execution_count": 11,
     "metadata": {},
     "output_type": "execute_result"
    }
   ],
   "source": [
    "len(sentences_ted)"
   ]
  },
  {
   "cell_type": "code",
   "execution_count": 12,
   "metadata": {
    "collapsed": false
   },
   "outputs": [
    {
     "name": "stdout",
     "output_type": "stream",
     "text": [
      "['here', 'are', 'two', 'reasons', 'companies', 'fail', 'they', 'only', 'do', 'more', 'of', 'the', 'same', 'or', 'they', 'only', 'do', 'what', 's', 'new']\n",
      "['to', 'me', 'the', 'real', 'real', 'solution', 'to', 'quality', 'growth', 'is', 'figuring', 'out', 'the', 'balance', 'between', 'two', 'activities', 'exploration', 'and', 'exploitation']\n"
     ]
    }
   ],
   "source": [
    "print(sentences_ted[0])\n",
    "print(sentences_ted[1])"
   ]
  },
  {
   "cell_type": "markdown",
   "metadata": {},
   "source": [
    "## Part 2: Word Frequencies"
   ]
  },
  {
   "cell_type": "code",
   "execution_count": 14,
   "metadata": {
    "collapsed": false
   },
   "outputs": [],
   "source": [
    "from collections import Iterable\n",
    "\n",
    "def flatten(items, ignore_types=(str, bytes)):\n",
    "    for x in items:\n",
    "        if isinstance(x, Iterable) and not isinstance(x, ignore_types):\n",
    "            yield from flatten(x)\n",
    "        else:\n",
    "            yield x"
   ]
  },
  {
   "cell_type": "code",
   "execution_count": 15,
   "metadata": {
    "collapsed": true
   },
   "outputs": [],
   "source": [
    "words = [word for word in flatten(sentences_ted)]"
   ]
  },
  {
   "cell_type": "code",
   "execution_count": 18,
   "metadata": {
    "collapsed": false
   },
   "outputs": [],
   "source": [
    "import collections\n",
    "word_counter=collections.Counter(words)"
   ]
  },
  {
   "cell_type": "code",
   "execution_count": 30,
   "metadata": {
    "collapsed": false
   },
   "outputs": [],
   "source": [
    "aa = word_counter.most_common()\n",
    "counts_ted_top1000 = aa[:1000]\n"
   ]
  },
  {
   "cell_type": "code",
   "execution_count": 32,
   "metadata": {
    "collapsed": false
   },
   "outputs": [],
   "source": [
    "top1000_val = [v[1] for v in counts_ted_top1000]"
   ]
  },
  {
   "cell_type": "code",
   "execution_count": 34,
   "metadata": {
    "collapsed": false
   },
   "outputs": [],
   "source": [
    "hist, edges = np.histogram(top1000_val, density=True, bins=100, normed=True)"
   ]
  },
  {
   "cell_type": "code",
   "execution_count": 35,
   "metadata": {
    "collapsed": false
   },
   "outputs": [
    {
     "data": {
      "text/html": [
       "\n",
       "\n",
       "    <div class=\"bk-root\">\n",
       "        <div class=\"bk-plotdiv\" id=\"533ffa7d-3a90-4035-b458-9bc2dfa1d091\"></div>\n",
       "    </div>\n",
       "<script type=\"text/javascript\">\n",
       "  \n",
       "  (function(global) {\n",
       "    function now() {\n",
       "      return new Date();\n",
       "    }\n",
       "  \n",
       "    var force = false;\n",
       "  \n",
       "    if (typeof (window._bokeh_onload_callbacks) === \"undefined\" || force === true) {\n",
       "      window._bokeh_onload_callbacks = [];\n",
       "      window._bokeh_is_loading = undefined;\n",
       "    }\n",
       "  \n",
       "  \n",
       "    \n",
       "    if (typeof (window._bokeh_timeout) === \"undefined\" || force === true) {\n",
       "      window._bokeh_timeout = Date.now() + 0;\n",
       "      window._bokeh_failed_load = false;\n",
       "    }\n",
       "  \n",
       "    var NB_LOAD_WARNING = {'data': {'text/html':\n",
       "       \"<div style='background-color: #fdd'>\\n\"+\n",
       "       \"<p>\\n\"+\n",
       "       \"BokehJS does not appear to have successfully loaded. If loading BokehJS from CDN, this \\n\"+\n",
       "       \"may be due to a slow or bad network connection. Possible fixes:\\n\"+\n",
       "       \"</p>\\n\"+\n",
       "       \"<ul>\\n\"+\n",
       "       \"<li>re-rerun `output_notebook()` to attempt to load from CDN again, or</li>\\n\"+\n",
       "       \"<li>use INLINE resources instead, as so:</li>\\n\"+\n",
       "       \"</ul>\\n\"+\n",
       "       \"<code>\\n\"+\n",
       "       \"from bokeh.resources import INLINE\\n\"+\n",
       "       \"output_notebook(resources=INLINE)\\n\"+\n",
       "       \"</code>\\n\"+\n",
       "       \"</div>\"}};\n",
       "  \n",
       "    function display_loaded() {\n",
       "      if (window.Bokeh !== undefined) {\n",
       "        var el = document.getElementById(\"533ffa7d-3a90-4035-b458-9bc2dfa1d091\");\n",
       "        el.textContent = \"BokehJS \" + Bokeh.version + \" successfully loaded.\";\n",
       "      } else if (Date.now() < window._bokeh_timeout) {\n",
       "        setTimeout(display_loaded, 100)\n",
       "      }\n",
       "    }\n",
       "  \n",
       "    function run_callbacks() {\n",
       "      try {\n",
       "        window._bokeh_onload_callbacks.forEach(function(callback) { callback() });\n",
       "      }\n",
       "      finally {\n",
       "        delete window._bokeh_onload_callbacks\n",
       "      }\n",
       "      console.info(\"Bokeh: all callbacks have finished\");\n",
       "    }\n",
       "  \n",
       "    function load_libs(js_urls, callback) {\n",
       "      window._bokeh_onload_callbacks.push(callback);\n",
       "      if (window._bokeh_is_loading > 0) {\n",
       "        console.log(\"Bokeh: BokehJS is being loaded, scheduling callback at\", now());\n",
       "        return null;\n",
       "      }\n",
       "      if (js_urls == null || js_urls.length === 0) {\n",
       "        run_callbacks();\n",
       "        return null;\n",
       "      }\n",
       "      console.log(\"Bokeh: BokehJS not loaded, scheduling load and callback at\", now());\n",
       "      window._bokeh_is_loading = js_urls.length;\n",
       "      for (var i = 0; i < js_urls.length; i++) {\n",
       "        var url = js_urls[i];\n",
       "        var s = document.createElement('script');\n",
       "        s.src = url;\n",
       "        s.async = false;\n",
       "        s.onreadystatechange = s.onload = function() {\n",
       "          window._bokeh_is_loading--;\n",
       "          if (window._bokeh_is_loading === 0) {\n",
       "            console.log(\"Bokeh: all BokehJS libraries loaded\");\n",
       "            run_callbacks()\n",
       "          }\n",
       "        };\n",
       "        s.onerror = function() {\n",
       "          console.warn(\"failed to load library \" + url);\n",
       "        };\n",
       "        console.log(\"Bokeh: injecting script tag for BokehJS library: \", url);\n",
       "        document.getElementsByTagName(\"head\")[0].appendChild(s);\n",
       "      }\n",
       "    };var element = document.getElementById(\"533ffa7d-3a90-4035-b458-9bc2dfa1d091\");\n",
       "    if (element == null) {\n",
       "      console.log(\"Bokeh: ERROR: autoload.js configured with elementid '533ffa7d-3a90-4035-b458-9bc2dfa1d091' but no matching script tag was found. \")\n",
       "      return false;\n",
       "    }\n",
       "  \n",
       "    var js_urls = [];\n",
       "  \n",
       "    var inline_js = [\n",
       "      function(Bokeh) {\n",
       "        (function() {\n",
       "          var fn = function() {\n",
       "            var docs_json = {\"e0110b38-18b4-4b63-9074-4bef123adfda\":{\"roots\":{\"references\":[{\"attributes\":{},\"id\":\"38e01400-b1eb-46a9-9785-67636cf765ea\",\"type\":\"BasicTickFormatter\"},{\"attributes\":{\"plot\":{\"id\":\"9806b419-4ce0-4642-af6b-7d9a624d5252\",\"subtype\":\"Figure\",\"type\":\"Plot\"}},\"id\":\"510b5a8c-c6ae-4524-abe1-92820b7b6548\",\"type\":\"WheelZoomTool\"},{\"attributes\":{\"plot\":{\"id\":\"9806b419-4ce0-4642-af6b-7d9a624d5252\",\"subtype\":\"Figure\",\"type\":\"Plot\"}},\"id\":\"d3d9dcea-bcbd-4ef7-83f7-fc043ccd8865\",\"type\":\"ResetTool\"},{\"attributes\":{\"plot\":{\"id\":\"9806b419-4ce0-4642-af6b-7d9a624d5252\",\"subtype\":\"Figure\",\"type\":\"Plot\"}},\"id\":\"b3183f81-250d-47fe-ba19-bc87bd9a1af9\",\"type\":\"SaveTool\"},{\"attributes\":{\"data_source\":{\"id\":\"1864ca16-b609-48fb-b213-a54dfe2ddb3d\",\"type\":\"ColumnDataSource\"},\"glyph\":{\"id\":\"791bb893-0f8b-4e14-b361-d98910e1b0e3\",\"type\":\"Quad\"},\"hover_glyph\":null,\"muted_glyph\":null,\"nonselection_glyph\":{\"id\":\"bf151ba9-069b-4d65-9863-b07514074b6e\",\"type\":\"Quad\"},\"selection_glyph\":null},\"id\":\"aae37249-9088-4093-b226-72a2559674f3\",\"type\":\"GlyphRenderer\"},{\"attributes\":{},\"id\":\"cb2a2813-d28b-4d07-8840-d3758b34f285\",\"type\":\"BasicTickFormatter\"},{\"attributes\":{\"below\":[{\"id\":\"6255bfa1-8606-424a-8aa7-890c4e63f0de\",\"type\":\"LinearAxis\"}],\"left\":[{\"id\":\"7c040430-9f9a-4c8d-b24c-48ea7949c43d\",\"type\":\"LinearAxis\"}],\"renderers\":[{\"id\":\"6255bfa1-8606-424a-8aa7-890c4e63f0de\",\"type\":\"LinearAxis\"},{\"id\":\"e3393134-7359-4182-9186-da162a233dc0\",\"type\":\"Grid\"},{\"id\":\"7c040430-9f9a-4c8d-b24c-48ea7949c43d\",\"type\":\"LinearAxis\"},{\"id\":\"e7c725f8-b481-48a9-a2c3-04cbea78d599\",\"type\":\"Grid\"},{\"id\":\"aae37249-9088-4093-b226-72a2559674f3\",\"type\":\"GlyphRenderer\"}],\"title\":{\"id\":\"beaa51a8-c229-44e3-a65c-f13eae45d6b2\",\"type\":\"Title\"},\"tool_events\":{\"id\":\"1f6d6bc0-0a0f-49de-a142-36e3ba8292b8\",\"type\":\"ToolEvents\"},\"toolbar\":{\"id\":\"9b75069b-f7c1-4ade-ae41-c56a1ff8af63\",\"type\":\"Toolbar\"},\"toolbar_location\":\"above\",\"x_range\":{\"id\":\"506bc7f5-2524-469c-b4a5-6a3923632b1f\",\"type\":\"DataRange1d\"},\"x_scale\":{\"id\":\"66d65736-36d9-440d-88a2-5249d86c286d\",\"type\":\"LinearScale\"},\"y_range\":{\"id\":\"db5bfe0e-ff1a-4b7c-bb8a-75a6d13e69b4\",\"type\":\"DataRange1d\"},\"y_scale\":{\"id\":\"068baf2b-d500-4d63-abde-1a0fe17fa6e4\",\"type\":\"LinearScale\"}},\"id\":\"9806b419-4ce0-4642-af6b-7d9a624d5252\",\"subtype\":\"Figure\",\"type\":\"Plot\"},{\"attributes\":{\"callback\":null,\"column_names\":[\"left\",\"right\",\"top\"],\"data\":{\"left\":{\"__ndarray__\":\"AAAAAABAeUB7FK5H4VqjQHsUrkfhxrFAuB6F61HguUB7FK5H4fzAQJqZmZmZCcVAuB6F61EWyUDXo3A9CiPNQHsUrkfhl9BACtejcD2e0kCamZmZmaTUQClcj8L1qtZAuB6F61Gx2EBI4XoUrrfaQNejcD0KvtxAZ2ZmZmbE3kB7FK5HYWXgQMP1KFyPaOFACtejcL1r4kBSuB6F627jQJqZmZkZcuRA4XoUrkd15UApXI/CdXjmQHE9Cteje+dAuB6F69F+6EAAAAAAAILpQEjhehQuhepAkML1KFyI60DXo3A9iovsQB+F61G4ju1AZ2ZmZuaR7kCuR+F6FJXvQHsUrkchTPBAH4XrUbjN8EDD9ShcT0/xQGdmZmbm0PFACtejcH1S8kCuR+F6FNTyQFK4HoWrVfNA9ihcj0LX80CamZmZ2Vj0QD4K16Nw2vRA4XoUrgdc9UCF61G4nt31QClcj8I1X/ZAzczMzMzg9kBxPQrXY2L3QBWuR+H64/dAuB6F65Fl+EBcj8L1KOf4QAAAAADAaPlApHA9Clfq+UBI4XoU7mv6QOxRuB6F7fpAkML1KBxv+0AzMzMzs/D7QNejcD1KcvxAexSuR+Hz/EAfhetReHX9QMP1KFwP9/1AZ2ZmZqZ4/kAK16NwPfr+QK5H4XrUe/9AUrgehWv9/0B7FK5HgT8AQc3MzMxMgABBH4XrURjBAEFxPQrX4wEBQcP1KFyvQgFBFa5H4XqDAUFnZmZmRsQBQbgehesRBQJBCtejcN1FAkFcj8L1qIYCQa5H4Xp0xwJBAAAAAEAIA0FSuB6FC0kDQaRwPQrXiQNB9ihcj6LKA0FI4XoUbgsEQZqZmZk5TARB7FG4HgWNBEE+Ctej0M0EQZDC9SicDgVB4XoUrmdPBUEzMzMzM5AFQYXrUbj+0AVB16NwPcoRBkEpXI/ClVIGQXsUrkdhkwZBzczMzCzUBkEfhetR+BQHQXE9CtfDVQdBw/UoXI+WB0EVrkfhWtcHQWdmZmYmGAhBuB6F6/FYCEEK16NwvZkIQVyPwvWI2ghBrkfhelQbCUE=\",\"dtype\":\"float64\",\"shape\":[100]},\"right\":{\"__ndarray__\":\"exSuR+Fao0B7FK5H4caxQLgehetR4LlAexSuR+H8wECamZmZmQnFQLgehetRFslA16NwPQojzUB7FK5H4ZfQQArXo3A9ntJAmpmZmZmk1EApXI/C9arWQLgehetRsdhASOF6FK632kDXo3A9Cr7cQGdmZmZmxN5AexSuR2Fl4EDD9Shcj2jhQArXo3C9a+JAUrgehetu40CamZmZGXLkQOF6FK5HdeVAKVyPwnV45kBxPQrXo3vnQLgehevRfuhAAAAAAACC6UBI4XoULoXqQJDC9ShciOtA16NwPYqL7EAfhetRuI7tQGdmZmbmke5ArkfhehSV70B7FK5HIUzwQB+F61G4zfBAw/UoXE9P8UBnZmZm5tDxQArXo3B9UvJArkfhehTU8kBSuB6Fq1XzQPYoXI9C1/NAmpmZmdlY9EA+CtejcNr0QOF6FK4HXPVAhetRuJ7d9UApXI/CNV/2QM3MzMzM4PZAcT0K12Ni90AVrkfh+uP3QLgeheuRZfhAXI/C9Sjn+EAAAAAAwGj5QKRwPQpX6vlASOF6FO5r+kDsUbgehe36QJDC9Sgcb/tAMzMzM7Pw+0DXo3A9SnL8QHsUrkfh8/xAH4XrUXh1/UDD9ShcD/f9QGdmZmameP5ACtejcD36/kCuR+F61Hv/QFK4HoVr/f9AexSuR4E/AEHNzMzMTIAAQR+F61EYwQBBcT0K1+MBAUHD9Shcr0IBQRWuR+F6gwFBZ2ZmZkbEAUG4HoXrEQUCQQrXo3DdRQJBXI/C9aiGAkGuR+F6dMcCQQAAAABACANBUrgehQtJA0GkcD0K14kDQfYoXI+iygNBSOF6FG4LBEGamZmZOUwEQexRuB4FjQRBPgrXo9DNBEGQwvUonA4FQeF6FK5nTwVBMzMzMzOQBUGF61G4/tAFQdejcD3KEQZBKVyPwpVSBkF7FK5HYZMGQc3MzMws1AZBH4XrUfgUB0FxPQrXw1UHQcP1KFyPlgdBFa5H4VrXB0FnZmZmJhgIQbgehevxWAhBCtejcL2ZCEFcj8L1iNoIQa5H4XpUGwlBAAAAACBcCUE=\",\"dtype\":\"float64\",\"shape\":[100]},\"top\":{\"__ndarray__\":\"50H1zNSBOT/ypb1tgHIBPwsriUb5Uew+zuTFiLI04j78kGUPxTHhPh40R25oQNY+zuTFiLI00j4pPQWW1y7APsTbB2FDRsg+JT0FltcuwD4tPQWW1y6wPi09BZbXLrA+JT0FltcuwD4tPQWW1y6gPiU9BZbXLrA+LT0FltcuoD4AAAAAAAAAADU9BZbXLqA+AAAAAAAAAAAAAAAAAAAAAAAAAAAAAAAAAAAAAAAAAAAAAAAAAAAAADU9BZbXLqA+AAAAAAAAAAAAAAAAAAAAAAAAAAAAAAAANT0FltcuoD4AAAAAAAAAAAAAAAAAAAAANT0FltcuoD4AAAAAAAAAACU9BZbXLqA+AAAAAAAAAAAlPQWW1y6gPkU9BZbXLqA+AAAAAAAAAAAlPQWW1y6gPgAAAAAAAAAAJT0FltcuoD4AAAAAAAAAAAAAAAAAAAAAAAAAAAAAAAAAAAAAAAAAAAAAAAAAAAAAJT0FltcuoD4AAAAAAAAAAAAAAAAAAAAAAAAAAAAAAAAAAAAAAAAAACU9BZbXLqA+AAAAAAAAAAAAAAAAAAAAAAAAAAAAAAAAAAAAAAAAAAAlPQWW1y6gPgAAAAAAAAAAAAAAAAAAAAAAAAAAAAAAAAAAAAAAAAAART0FltcuoD4AAAAAAAAAAAAAAAAAAAAAAAAAAAAAAAAAAAAAAAAAAAAAAAAAAAAAAAAAAAAAAAAAAAAAAAAAAAAAAAAAAAAAAAAAAAAAAAAAAAAAAAAAACU9BZbXLqA+AAAAAAAAAAAAAAAAAAAAAAAAAAAAAAAAAAAAAAAAAAAAAAAAAAAAAAAAAAAAAAAAAAAAAAAAAAAAAAAAAAAAAAAAAAAAAAAAAAAAAAAAAAAAAAAAAAAAAAAAAAAAAAAAAAAAAAAAAAAAAAAAAAAAAAAAAAAAAAAAAAAAAAAAAAAAAAAAAAAAAAAAAAAAAAAAAAAAAAAAAAAAAAAAAAAAAAAAAAAAAAAAAAAAAAAAAAAAAAAAAAAAAAAAAAAAAAAAAAAAAAAAAAAAAAAAAAAAAAAAAAAAAAAAJT0FltcuoD4=\",\"dtype\":\"float64\",\"shape\":[100]}}},\"id\":\"1864ca16-b609-48fb-b213-a54dfe2ddb3d\",\"type\":\"ColumnDataSource\"},{\"attributes\":{},\"id\":\"1f6d6bc0-0a0f-49de-a142-36e3ba8292b8\",\"type\":\"ToolEvents\"},{\"attributes\":{\"plot\":null,\"text\":\"Top-1000 words distribution\"},\"id\":\"beaa51a8-c229-44e3-a65c-f13eae45d6b2\",\"type\":\"Title\"},{\"attributes\":{\"callback\":null},\"id\":\"506bc7f5-2524-469c-b4a5-6a3923632b1f\",\"type\":\"DataRange1d\"},{\"attributes\":{\"active_drag\":\"auto\",\"active_inspect\":\"auto\",\"active_scroll\":\"auto\",\"active_tap\":\"auto\",\"tools\":[{\"id\":\"464921fe-5c7e-48c9-a1dc-2bbcf432c3db\",\"type\":\"PanTool\"},{\"id\":\"510b5a8c-c6ae-4524-abe1-92820b7b6548\",\"type\":\"WheelZoomTool\"},{\"id\":\"d3d9dcea-bcbd-4ef7-83f7-fc043ccd8865\",\"type\":\"ResetTool\"},{\"id\":\"b3183f81-250d-47fe-ba19-bc87bd9a1af9\",\"type\":\"SaveTool\"}]},\"id\":\"9b75069b-f7c1-4ade-ae41-c56a1ff8af63\",\"type\":\"Toolbar\"},{\"attributes\":{},\"id\":\"434b7f07-3db5-4c3c-a8ba-a81cc67d31b2\",\"type\":\"BasicTicker\"},{\"attributes\":{\"bottom\":{\"value\":0},\"fill_alpha\":{\"value\":0.1},\"fill_color\":{\"value\":\"#1f77b4\"},\"left\":{\"field\":\"left\"},\"line_alpha\":{\"value\":0.1},\"line_color\":{\"value\":\"#1f77b4\"},\"right\":{\"field\":\"right\"},\"top\":{\"field\":\"top\"}},\"id\":\"bf151ba9-069b-4d65-9863-b07514074b6e\",\"type\":\"Quad\"},{\"attributes\":{},\"id\":\"66d65736-36d9-440d-88a2-5249d86c286d\",\"type\":\"LinearScale\"},{\"attributes\":{\"callback\":null},\"id\":\"db5bfe0e-ff1a-4b7c-bb8a-75a6d13e69b4\",\"type\":\"DataRange1d\"},{\"attributes\":{},\"id\":\"068baf2b-d500-4d63-abde-1a0fe17fa6e4\",\"type\":\"LinearScale\"},{\"attributes\":{\"plot\":{\"id\":\"9806b419-4ce0-4642-af6b-7d9a624d5252\",\"subtype\":\"Figure\",\"type\":\"Plot\"},\"ticker\":{\"id\":\"434b7f07-3db5-4c3c-a8ba-a81cc67d31b2\",\"type\":\"BasicTicker\"}},\"id\":\"e3393134-7359-4182-9186-da162a233dc0\",\"type\":\"Grid\"},{\"attributes\":{\"formatter\":{\"id\":\"38e01400-b1eb-46a9-9785-67636cf765ea\",\"type\":\"BasicTickFormatter\"},\"plot\":{\"id\":\"9806b419-4ce0-4642-af6b-7d9a624d5252\",\"subtype\":\"Figure\",\"type\":\"Plot\"},\"ticker\":{\"id\":\"434b7f07-3db5-4c3c-a8ba-a81cc67d31b2\",\"type\":\"BasicTicker\"}},\"id\":\"6255bfa1-8606-424a-8aa7-890c4e63f0de\",\"type\":\"LinearAxis\"},{\"attributes\":{\"bottom\":{\"value\":0},\"fill_color\":{\"value\":\"#1f77b4\"},\"left\":{\"field\":\"left\"},\"line_color\":{\"value\":\"#555555\"},\"right\":{\"field\":\"right\"},\"top\":{\"field\":\"top\"}},\"id\":\"791bb893-0f8b-4e14-b361-d98910e1b0e3\",\"type\":\"Quad\"},{\"attributes\":{\"formatter\":{\"id\":\"cb2a2813-d28b-4d07-8840-d3758b34f285\",\"type\":\"BasicTickFormatter\"},\"plot\":{\"id\":\"9806b419-4ce0-4642-af6b-7d9a624d5252\",\"subtype\":\"Figure\",\"type\":\"Plot\"},\"ticker\":{\"id\":\"78da3719-07c2-4df4-88aa-8f01f1aad93d\",\"type\":\"BasicTicker\"}},\"id\":\"7c040430-9f9a-4c8d-b24c-48ea7949c43d\",\"type\":\"LinearAxis\"},{\"attributes\":{},\"id\":\"78da3719-07c2-4df4-88aa-8f01f1aad93d\",\"type\":\"BasicTicker\"},{\"attributes\":{\"dimension\":1,\"plot\":{\"id\":\"9806b419-4ce0-4642-af6b-7d9a624d5252\",\"subtype\":\"Figure\",\"type\":\"Plot\"},\"ticker\":{\"id\":\"78da3719-07c2-4df4-88aa-8f01f1aad93d\",\"type\":\"BasicTicker\"}},\"id\":\"e7c725f8-b481-48a9-a2c3-04cbea78d599\",\"type\":\"Grid\"},{\"attributes\":{\"plot\":{\"id\":\"9806b419-4ce0-4642-af6b-7d9a624d5252\",\"subtype\":\"Figure\",\"type\":\"Plot\"}},\"id\":\"464921fe-5c7e-48c9-a1dc-2bbcf432c3db\",\"type\":\"PanTool\"}],\"root_ids\":[\"9806b419-4ce0-4642-af6b-7d9a624d5252\"]},\"title\":\"Bokeh Application\",\"version\":\"0.12.6\"}};\n",
       "            var render_items = [{\"docid\":\"e0110b38-18b4-4b63-9074-4bef123adfda\",\"elementid\":\"533ffa7d-3a90-4035-b458-9bc2dfa1d091\",\"modelid\":\"9806b419-4ce0-4642-af6b-7d9a624d5252\"}];\n",
       "            \n",
       "            Bokeh.embed.embed_items(docs_json, render_items);\n",
       "          };\n",
       "          if (document.readyState != \"loading\") fn();\n",
       "          else document.addEventListener(\"DOMContentLoaded\", fn);\n",
       "        })();\n",
       "      },\n",
       "      function(Bokeh) {\n",
       "      }\n",
       "    ];\n",
       "  \n",
       "    function run_inline_js() {\n",
       "      \n",
       "      if ((window.Bokeh !== undefined) || (force === true)) {\n",
       "        for (var i = 0; i < inline_js.length; i++) {\n",
       "          inline_js[i](window.Bokeh);\n",
       "        }if (force === true) {\n",
       "          display_loaded();\n",
       "        }} else if (Date.now() < window._bokeh_timeout) {\n",
       "        setTimeout(run_inline_js, 100);\n",
       "      } else if (!window._bokeh_failed_load) {\n",
       "        console.log(\"Bokeh: BokehJS failed to load within specified timeout.\");\n",
       "        window._bokeh_failed_load = true;\n",
       "      } else if (force !== true) {\n",
       "        var cell = $(document.getElementById(\"533ffa7d-3a90-4035-b458-9bc2dfa1d091\")).parents('.cell').data().cell;\n",
       "        cell.output_area.append_execute_result(NB_LOAD_WARNING)\n",
       "      }\n",
       "  \n",
       "    }\n",
       "  \n",
       "    if (window._bokeh_is_loading === 0) {\n",
       "      console.log(\"Bokeh: BokehJS loaded, going straight to plotting\");\n",
       "      run_inline_js();\n",
       "    } else {\n",
       "      load_libs(js_urls, function() {\n",
       "        console.log(\"Bokeh: BokehJS plotting callback run at\", now());\n",
       "        run_inline_js();\n",
       "      });\n",
       "    }\n",
       "  }(this));\n",
       "</script>"
      ]
     },
     "metadata": {},
     "output_type": "display_data"
    }
   ],
   "source": [
    "p = figure(tools=\"pan,wheel_zoom,reset,save\",\n",
    "           toolbar_location=\"above\",\n",
    "           title=\"Top-1000 words distribution\")\n",
    "p.quad(top=hist, bottom=0, left=edges[:-1], right=edges[1:], line_color=\"#555555\")\n",
    "show(p)"
   ]
  },
  {
   "cell_type": "markdown",
   "metadata": {},
   "source": [
    "### Part 3: Train Word2Vec"
   ]
  },
  {
   "cell_type": "code",
   "execution_count": 36,
   "metadata": {
    "collapsed": false
   },
   "outputs": [
    {
     "name": "stderr",
     "output_type": "stream",
     "text": [
      "Using TensorFlow backend.\n"
     ]
    }
   ],
   "source": [
    "from gensim.models import Word2Vec"
   ]
  },
  {
   "cell_type": "code",
   "execution_count": 37,
   "metadata": {
    "collapsed": true
   },
   "outputs": [],
   "source": [
    "model = Word2Vec(sentences_ted, size=100, window=5, min_count=5, workers=4)"
   ]
  },
  {
   "cell_type": "code",
   "execution_count": 38,
   "metadata": {
    "collapsed": false
   },
   "outputs": [
    {
     "data": {
      "text/plain": [
       "[('woman', 0.8460798263549805),\n",
       " ('guy', 0.8102425336837769),\n",
       " ('lady', 0.7796527147293091),\n",
       " ('girl', 0.7529878616333008),\n",
       " ('boy', 0.7444412112236023),\n",
       " ('gentleman', 0.7003335952758789),\n",
       " ('poet', 0.6951100826263428),\n",
       " ('david', 0.6939632296562195),\n",
       " ('kid', 0.6897885799407959),\n",
       " ('soldier', 0.6809227466583252)]"
      ]
     },
     "execution_count": 38,
     "metadata": {},
     "output_type": "execute_result"
    }
   ],
   "source": [
    "model.most_similar(\"man\")"
   ]
  },
  {
   "cell_type": "code",
   "execution_count": 40,
   "metadata": {
    "collapsed": false
   },
   "outputs": [
    {
     "data": {
      "text/plain": [
       "[('machine', 0.7574893832206726),\n",
       " ('software', 0.7415962815284729),\n",
       " ('robot', 0.6805332899093628),\n",
       " ('device', 0.6590874195098877),\n",
       " ('3d', 0.655287504196167),\n",
       " ('mechanical', 0.6357251405715942),\n",
       " ('program', 0.6354331970214844),\n",
       " ('camera', 0.6281588077545166),\n",
       " ('interface', 0.6258364915847778),\n",
       " ('simulation', 0.616331934928894)]"
      ]
     },
     "execution_count": 40,
     "metadata": {},
     "output_type": "execute_result"
    }
   ],
   "source": [
    "model.most_similar(\"computer\")"
   ]
  },
  {
   "cell_type": "markdown",
   "metadata": {},
   "source": [
    "## t-SNE visualization with D3.js"
   ]
  },
  {
   "cell_type": "code",
   "execution_count": 46,
   "metadata": {
    "collapsed": false
   },
   "outputs": [
    {
     "name": "stdout",
     "output_type": "stream",
     "text": [
      "['the', 'and', 'to', 'of', 'a', 'that', 'i', 'in', 'it', 'you', 'we', 'is', 's', 'this', 'so', 'they', 'was', 'for', 'are', 'have', 'but', 'what', 'on', 'with', 'can', 't', 'about', 'there', 'be', 'as', 'at', 'all', 'not', 'do', 'my', 'one', 're', 'people', 'like', 'if', 'from', 'now', 'our', 'he', 'an', 'just', 'these', 'or', 'when', 'because', 'very', 'me', 'out', 'by', 'them', 'how', 'know', 'up', 'going', 'had', 'more', 'think', 'who', 'were', 'see', 'your', 'their', 'which', 'would', 'here', 'really', 'get', 've', 'then', 'm', 'world', 'us', 'time', 'some', 'has', 'don', 'actually', 'into', 'way', 'where', 'will', 'years', 'things', 'other', 'no', 'could', 'go', 'well', 'want', 'been', 'make', 'right', 'she', 'said', 'something', 'those', 'first', 'two', 'than', 'much', 'also', 'look', 'new', 'thing', 'little', 'got', 'back', 'over', 'most', 'say', 'even', 'his', 'life', 'only', 'work', 'many', 'take', 'need', 'did', 'lot', 'kind', 'why', 'good', 'around', 'every', 'different', 'down', 'll', 'let', 'her', 'through', 'same', 'being', 'come', 'd', 'day', 'year', 'three', 'use', 'doing', 'put', 'called', 'any', 'today', 'percent', 'made', 'after', 'thank', 'tell', 'great', 'human', 'find', 'didn', 'fact', 'talk', 'change', 'started', 'another', 'idea', 'big', 'last', 'own', 'before', 'its', 'never', 'should', 'better', 'give', 'thought', 'went', 'might', 'important', '000', 'again', 'able', 'together', 'still', 'problem', 'off', 'next', 'part', 'course', 'system', 'him', 'does', 'each', 'start', 'show', 'long', 'ago', 'story', 'came', 'brain', 'few', 'bit', 'between', 'used', 'place', 'technology', 'women', 'too', 'old', 'mean', 'data', 'water', 'looking', 'question', 'maybe', 'found', 'love', 'doesn', 'end', 'example', '10', 'done', 'point', 'four', 'real', 'wanted', 'ever', 'school', 'understand', 'sort', 'live', 'call', 'whole', 'children', 'always', 'trying', 'may', 'person', 'away', 'believe', 'feel', 'try', 'million', 'working', 'help', 'everything', 'five', 'country', 'thinking', 'second', 'using', 'information', 'money', 'means', 'power', 'took', 'times', 'high', 'space', 'number', 'kids', 'home', 'become', 'create', 'small', 'design', 'making', 'best', 'left', 'getting', 'future', 'enough', 'man', 'quite', 'city', 'without', 'sense', 'happened', 'comes', 'social', 'probably', 'less', 'light', 'talking', 'energy', 'am', 'building', 'science', 'food', 'body', 'told', 'interesting', 'ask', 'half', 'pretty', 'hard', 'play', 'anything', 'lives', 'countries', 'coming', 'such', 'family', 'stuff', 'dollars', 'earth', 'moment', '20', 'imagine', 'across', 'side', 'while', 'saw', 'happen', 'once', 'okay', 'build', 'having', 'men', 'later', 'experience', 'makes', 'asked', 'living', 'seen', 'says', 'room', 'hand', 'simple', 'health', 'ways', 'else', 'case', 'yet', 'almost', 'young', 'days', 'nothing', 'care', 'bad', 'happens', 'goes', 'move', 'states', 'reason', 'computer', 'open', 'learn', 'africa', 'process', 'inside', 'someone', 'six', 'far', 'mind', 'project', 'remember', 'single', 'picture', 'both', 'whether', 'problems', 'saying', 'community', 'basically', 'already', 'within', 'looked', 'myself', 'billion', 'often', 'possible', 'business', 'planet', 'global', 'everybody', 'top', 'sure', 'public', 'set', 'wrong', 'car', 'book', 'keep', 'yes', 'answer', 'oh', 'hope', 'sometimes', 'true', 'history', 'war', 'guy', 'child', 'instead', 'months', 'ideas', 'looks', 'matter', 'government', 'amazing', 'united', 'since', 'bring', 'age', 'cells', 'job', 'heard', 'until', 'face', 'wasn', '100', 'read', 'control', 'isn', 'research', '30', 'words', 'u', 'group', 'under', 'self', 'somebody', 'built', 'state', 'woman', 'turn', 'friends', 'beautiful', 'line', 'knew', 'couple', 'order', 'form', 'yeah', 'internet', 'middle', 'music', 'piece', 'nature', 'head', 'though', 'stop', 'everyone', '50', 'places', 'video', 'learned', 'language', 'run', 'night', 'decided', 'study', 'word', 'cancer', 'taking', 'works', 'became', 'exactly', 'species', 'society', 'completely', 'education', 'against', 'stories', 'large', 'share', 'level', 'heart', 'america', 'model', 'questions', 'gets', 'mother', 'god', 'company', 'turns', 'ourselves', 'happening', 'hear', 'art', 'themselves', 'must', 'itself', 'rather', 'kinds', 'students', 'name', 'hours', 'disease', 'front', 'house', 'huge', 'couldn', 'created', 'universe', 'ok', 'animals', 'american', 'environment', 'worked', 'minutes', 'ones', 'black', 'perhaps', '1', 'past', 'third', 'along', 'others', 'finally', 'sound', 'early', 'game', 'thousands', 'century', 'based', 'least', 'per', 'ted', 'lots', 'figure', 'free', 'guys', 'particular', 'happy', 'news', 'learning', 'entire', 'won', 'gave', 'machine', 'india', 'during', 'systems', 'air', 'difference', 'outside', 'natural', 'taken', 'seven', 'given', 'changed', 'leave', 'cell', '15', 'close', 'behind', 'cities', 'full', 'scale', 'difficult', 'china', 'takes', 'companies', 'yourself', 'area', 'reality', 'seeing', 'easy', 'turned', 'cost', 'eyes', 'team', 'moving', 'population', 'culture', 'york', 'hands', 'whatever', 'began', 'needs', 'terms', 'image', 'simply', 'needed', 'beginning', 'father', 'local', 'realized', 'media', 'death', 'parents', 'view', 'walk', 'white', 'market', 'parts', 'ocean', 'economic', 'eight', 'powerful', 'known', 'week', 'size', 'felt', 'humans', 'certain', 'spend', 'longer', 'phone', 'wonderful', 'cannot', 'grow', 'common', 'center', 'tried', 'fish', 'land', 'oil', 'political', 'interested', 'deal', 'red', 'gone', 'amount', 'weeks', 'spent', 'opportunity', 'paper', 'lost', 'national', 'quickly', 'blue', 'step', 'poor', 'green', 'buy', 'growth', 'wouldn', 'either', 'patients', 'sitting', 'ability', 'changes', 'write', 'challenge', 'south', 'low', 'growing', 'friend', 'field', 'shows', '2', 'born', 'rest', 'climate', '40', 'test', 'street', 'surface', 'incredible', 'average', 'physical', 'morning', 'scientists', 'program', 'pay', 'value', 'feeling', 'hundreds', 'girl', 'met', 'behavior', 'economy', 'dna', 'complex', 'access', 'risk', 'animal', 'structure', 'feet', 'attention', 'areas', 'anyone', 'deep', 'watch', 'short', 'absolutely', 'speak', 'brought', 'die', 'bottom', 'numbers', 'audience', 'stage', 'realize', 'law', 'images', 'wrote', 'understanding', 'knowledge', 'literally', 'books', 'movement', 'ground', 'giving', 'eat', 'force', 'seems', 'alone', 'telling', 'starting', 'hold', 'nice', 'forward', 'sea', 'developed', 'individual', 'kid', 'millions', 'support', 'miles', 'tools', 'running', 'online', 'result', 'act', 'medical', 'technologies', 'north', 'lab', 'development', 'blood', 'fear', 'nobody', 'map', 'personal', 'issue', 'voice', 'material', 'key', '12', 'recently', 'theory', 'cut', 'cars', 'sun', 'fast', 'changing', 'playing', 'clear', 'especially', 'soon', 'girls', 'patient', 'choice', 'fly', 'creating', 'normal', 'discovered', 'europe', 'talked', 'relationship', 'gives', 'generation', 'dark', 'type', 'showed', 'chance', 'seem', 'industry', 'asking', 'rate', 'fun', 'issues', 'color', 'designed', 'hour', 'university', 'innovation', 'several', 'class', 'computers', 'english', 'tiny', 'allow', 'save', 'focus', 'digital', 'solve', 'developing', 'network', 'film', 'special', 'wall', 'situation', 'baby', 'solution', 'reasons', 'box', 'knows', 'meet', 'dead', 'stand', 'begin', 'haven', 'impact', 'anybody', 'term', 'beyond', 'pictures', 'please', 'ice', 'produce', 'shape', 'non', 'resources', 'robot', 'cool', 'groups', 'likely', 'stay', 'available', 'truth', 'rights', 'major', 'cause', 'evidence', 'obviously', 'writing', 'experiment', 'modern', 'drug', 'becomes', 'incredibly', 'aren', 'bigger', 'guess', 'nine', 'product', 'drugs', 'lived', 'involved', 'perfect', 'google', 'month', 'effect', 'similar', 'putting', 'eye', 'pick', 'message', 'quality', 'violence', 'web', 'evolution', 'security', 'office', 'basic', 'solar', 'indeed', 'general', 'towards', 'present', 'drive', 'send', 'listen', 'worth', 'revolution', 'explain', 'hundred', 'certainly', 'died', 'ready', 'teach', 'journey', '25', 'hit', 'walking', 'led', 'approach', 'international', '200', 'scientific', 'games', '60', 'potential', 'crazy', 'communities', 'chinese', 'device', 'source', 'camera', 'rules', 'sex', 'carbon', 'sounds', 'boy', 'reach', 'starts', 'examples', 'west', '3', 'success', 'measure', 'particularly', 'software', 'totally', 'suddenly', 'action', 'college', 'higher', 'code', 'eventually', 'democracy', 'among', 'minute', 'sit', 'largest', 'showing', 'hospital', 'notice', 'period', 'mass', 'develop', 'dream', 'onto', 'plants', 'break', 'add', 'memory', 'everywhere', 'favorite', '11', 'zero', 'speed', 'schools', 'moved', 'response', 'wants', 'extremely', 'movie', 'individuals', 'table', 'wait', 'medicine', 'follow', 'anyway', 'trust', 'plant', 'biggest', 'watching', 'organization', 'creative', 'road', 'choose', 'worse', 'lead', 'results', '500', 'exciting', 'grew', 'materials', 'jobs', 'plan', 'east', 'poverty', 'positive', 'safe', 'strong', 'fall', 'essentially', 'object', 'door', 'son', 'vision', 'further', 'happiness', 'continue', 'student', 'doctor', 'including', 'named', 'role', 'objects', 'extraordinary', 'standing', 'skin', 'leaders', 'usually', 'african', 'conversation', 'projects', 'allowed', 'models', 'supposed', 'faster', 'interest', 'families', 'police', 'fight', 'tree', 'connected', 'screen', '5', 'cases', 'goal', 'somewhere', 'finding', 'buildings', 'shown']\n"
     ]
    }
   ],
   "source": [
    "\n",
    "top1000_word = [word[0] for word in counts_ted_top1000]\n",
    "print(top1000_word)"
   ]
  },
  {
   "cell_type": "code",
   "execution_count": 48,
   "metadata": {
    "collapsed": false
   },
   "outputs": [],
   "source": [
    "\n",
    "words_top_vec_wiki = model[top1000_word]\n",
    "from sklearn.manifold import TSNE\n",
    "tsne = TSNE(n_components=2, random_state=0)\n",
    "words_top_wiki_tsne = tsne.fit_transform(words_top_vec_wiki)"
   ]
  },
  {
   "cell_type": "code",
   "execution_count": 50,
   "metadata": {
    "collapsed": false
   },
   "outputs": [
    {
     "data": {
      "text/html": [
       "\n",
       "\n",
       "    <div class=\"bk-root\">\n",
       "        <div class=\"bk-plotdiv\" id=\"2d5251a8-62fd-420d-8b91-123fb6fc6777\"></div>\n",
       "    </div>\n",
       "<script type=\"text/javascript\">\n",
       "  \n",
       "  (function(global) {\n",
       "    function now() {\n",
       "      return new Date();\n",
       "    }\n",
       "  \n",
       "    var force = false;\n",
       "  \n",
       "    if (typeof (window._bokeh_onload_callbacks) === \"undefined\" || force === true) {\n",
       "      window._bokeh_onload_callbacks = [];\n",
       "      window._bokeh_is_loading = undefined;\n",
       "    }\n",
       "  \n",
       "  \n",
       "    \n",
       "    if (typeof (window._bokeh_timeout) === \"undefined\" || force === true) {\n",
       "      window._bokeh_timeout = Date.now() + 0;\n",
       "      window._bokeh_failed_load = false;\n",
       "    }\n",
       "  \n",
       "    var NB_LOAD_WARNING = {'data': {'text/html':\n",
       "       \"<div style='background-color: #fdd'>\\n\"+\n",
       "       \"<p>\\n\"+\n",
       "       \"BokehJS does not appear to have successfully loaded. If loading BokehJS from CDN, this \\n\"+\n",
       "       \"may be due to a slow or bad network connection. Possible fixes:\\n\"+\n",
       "       \"</p>\\n\"+\n",
       "       \"<ul>\\n\"+\n",
       "       \"<li>re-rerun `output_notebook()` to attempt to load from CDN again, or</li>\\n\"+\n",
       "       \"<li>use INLINE resources instead, as so:</li>\\n\"+\n",
       "       \"</ul>\\n\"+\n",
       "       \"<code>\\n\"+\n",
       "       \"from bokeh.resources import INLINE\\n\"+\n",
       "       \"output_notebook(resources=INLINE)\\n\"+\n",
       "       \"</code>\\n\"+\n",
       "       \"</div>\"}};\n",
       "  \n",
       "    function display_loaded() {\n",
       "      if (window.Bokeh !== undefined) {\n",
       "        var el = document.getElementById(\"2d5251a8-62fd-420d-8b91-123fb6fc6777\");\n",
       "        el.textContent = \"BokehJS \" + Bokeh.version + \" successfully loaded.\";\n",
       "      } else if (Date.now() < window._bokeh_timeout) {\n",
       "        setTimeout(display_loaded, 100)\n",
       "      }\n",
       "    }\n",
       "  \n",
       "    function run_callbacks() {\n",
       "      try {\n",
       "        window._bokeh_onload_callbacks.forEach(function(callback) { callback() });\n",
       "      }\n",
       "      finally {\n",
       "        delete window._bokeh_onload_callbacks\n",
       "      }\n",
       "      console.info(\"Bokeh: all callbacks have finished\");\n",
       "    }\n",
       "  \n",
       "    function load_libs(js_urls, callback) {\n",
       "      window._bokeh_onload_callbacks.push(callback);\n",
       "      if (window._bokeh_is_loading > 0) {\n",
       "        console.log(\"Bokeh: BokehJS is being loaded, scheduling callback at\", now());\n",
       "        return null;\n",
       "      }\n",
       "      if (js_urls == null || js_urls.length === 0) {\n",
       "        run_callbacks();\n",
       "        return null;\n",
       "      }\n",
       "      console.log(\"Bokeh: BokehJS not loaded, scheduling load and callback at\", now());\n",
       "      window._bokeh_is_loading = js_urls.length;\n",
       "      for (var i = 0; i < js_urls.length; i++) {\n",
       "        var url = js_urls[i];\n",
       "        var s = document.createElement('script');\n",
       "        s.src = url;\n",
       "        s.async = false;\n",
       "        s.onreadystatechange = s.onload = function() {\n",
       "          window._bokeh_is_loading--;\n",
       "          if (window._bokeh_is_loading === 0) {\n",
       "            console.log(\"Bokeh: all BokehJS libraries loaded\");\n",
       "            run_callbacks()\n",
       "          }\n",
       "        };\n",
       "        s.onerror = function() {\n",
       "          console.warn(\"failed to load library \" + url);\n",
       "        };\n",
       "        console.log(\"Bokeh: injecting script tag for BokehJS library: \", url);\n",
       "        document.getElementsByTagName(\"head\")[0].appendChild(s);\n",
       "      }\n",
       "    };var element = document.getElementById(\"2d5251a8-62fd-420d-8b91-123fb6fc6777\");\n",
       "    if (element == null) {\n",
       "      console.log(\"Bokeh: ERROR: autoload.js configured with elementid '2d5251a8-62fd-420d-8b91-123fb6fc6777' but no matching script tag was found. \")\n",
       "      return false;\n",
       "    }\n",
       "  \n",
       "    var js_urls = [];\n",
       "  \n",
       "    var inline_js = [\n",
       "      function(Bokeh) {\n",
       "        (function() {\n",
       "          var fn = function() {\n",
       "            var docs_json = {\"f3d38442-1695-4ee4-92eb-dedd146e520a\":{\"roots\":{\"references\":[{\"attributes\":{\"callback\":null},\"id\":\"2c058c6e-4b6a-4485-a5a1-15495e4f990d\",\"type\":\"DataRange1d\"},{\"attributes\":{},\"id\":\"75ee2fcc-7ba4-4518-b805-5d568c0c92dc\",\"type\":\"BasicTickFormatter\"},{\"attributes\":{},\"id\":\"a41475ef-56e3-4275-8d9a-07968b7a6b45\",\"type\":\"LinearScale\"},{\"attributes\":{\"callback\":null},\"id\":\"f15be1ea-be4d-4ab1-a659-b01db5cddea3\",\"type\":\"DataRange1d\"},{\"attributes\":{},\"id\":\"c20ec726-6797-4089-85a3-b90ea6944db9\",\"type\":\"LinearScale\"},{\"attributes\":{\"plot\":{\"id\":\"f3ccb966-b495-402b-bb7d-1b6258719520\",\"subtype\":\"Figure\",\"type\":\"Plot\"},\"ticker\":{\"id\":\"73c5006d-8ccd-4190-ac16-fc8de13b7340\",\"type\":\"BasicTicker\"}},\"id\":\"fe1c7a6e-0872-4c43-9733-d3bb6887d034\",\"type\":\"Grid\"},{\"attributes\":{\"formatter\":{\"id\":\"16144a1c-84a5-40d9-84a0-1d9fde459c08\",\"type\":\"BasicTickFormatter\"},\"plot\":{\"id\":\"f3ccb966-b495-402b-bb7d-1b6258719520\",\"subtype\":\"Figure\",\"type\":\"Plot\"},\"ticker\":{\"id\":\"73c5006d-8ccd-4190-ac16-fc8de13b7340\",\"type\":\"BasicTicker\"}},\"id\":\"dfc90281-89b7-4872-8c5d-3a8c39d02dbc\",\"type\":\"LinearAxis\"},{\"attributes\":{},\"id\":\"73c5006d-8ccd-4190-ac16-fc8de13b7340\",\"type\":\"BasicTicker\"},{\"attributes\":{\"formatter\":{\"id\":\"75ee2fcc-7ba4-4518-b805-5d568c0c92dc\",\"type\":\"BasicTickFormatter\"},\"plot\":{\"id\":\"f3ccb966-b495-402b-bb7d-1b6258719520\",\"subtype\":\"Figure\",\"type\":\"Plot\"},\"ticker\":{\"id\":\"8b8c3336-eef0-4bdb-b392-2626fc2c5ab1\",\"type\":\"BasicTicker\"}},\"id\":\"9a840e18-fa3d-4cc6-91d5-5d738493a611\",\"type\":\"LinearAxis\"},{\"attributes\":{},\"id\":\"8b8c3336-eef0-4bdb-b392-2626fc2c5ab1\",\"type\":\"BasicTicker\"},{\"attributes\":{\"dimension\":1,\"plot\":{\"id\":\"f3ccb966-b495-402b-bb7d-1b6258719520\",\"subtype\":\"Figure\",\"type\":\"Plot\"},\"ticker\":{\"id\":\"8b8c3336-eef0-4bdb-b392-2626fc2c5ab1\",\"type\":\"BasicTicker\"}},\"id\":\"bf81b8ca-fe48-45e9-98a0-7908141d8320\",\"type\":\"Grid\"},{\"attributes\":{\"fill_color\":{\"value\":\"#1f77b4\"},\"line_color\":{\"value\":\"#1f77b4\"},\"size\":{\"units\":\"screen\",\"value\":8},\"x\":{\"field\":\"x1\"},\"y\":{\"field\":\"x2\"}},\"id\":\"ba12e4ed-9118-4ebc-977d-a73234c57949\",\"type\":\"Circle\"},{\"attributes\":{\"active_drag\":\"auto\",\"active_inspect\":\"auto\",\"active_scroll\":\"auto\",\"active_tap\":\"auto\",\"tools\":[{\"id\":\"5ae2f580-de99-4621-b8cb-c671faf1f8c1\",\"type\":\"PanTool\"},{\"id\":\"1372f627-5524-4bb0-a7f3-02739a52f5da\",\"type\":\"WheelZoomTool\"},{\"id\":\"c479b090-5858-4013-acf9-930b4dab6f59\",\"type\":\"ResetTool\"},{\"id\":\"288e92a2-7896-4154-877d-4284dd19e5ae\",\"type\":\"SaveTool\"}]},\"id\":\"efeec780-b513-4a9e-936d-fe5fba810d15\",\"type\":\"Toolbar\"},{\"attributes\":{},\"id\":\"16144a1c-84a5-40d9-84a0-1d9fde459c08\",\"type\":\"BasicTickFormatter\"},{\"attributes\":{\"plot\":{\"id\":\"f3ccb966-b495-402b-bb7d-1b6258719520\",\"subtype\":\"Figure\",\"type\":\"Plot\"}},\"id\":\"5ae2f580-de99-4621-b8cb-c671faf1f8c1\",\"type\":\"PanTool\"},{\"attributes\":{\"plot\":{\"id\":\"f3ccb966-b495-402b-bb7d-1b6258719520\",\"subtype\":\"Figure\",\"type\":\"Plot\"}},\"id\":\"1372f627-5524-4bb0-a7f3-02739a52f5da\",\"type\":\"WheelZoomTool\"},{\"attributes\":{\"plot\":{\"id\":\"f3ccb966-b495-402b-bb7d-1b6258719520\",\"subtype\":\"Figure\",\"type\":\"Plot\"}},\"id\":\"c479b090-5858-4013-acf9-930b4dab6f59\",\"type\":\"ResetTool\"},{\"attributes\":{\"plot\":{\"id\":\"f3ccb966-b495-402b-bb7d-1b6258719520\",\"subtype\":\"Figure\",\"type\":\"Plot\"}},\"id\":\"288e92a2-7896-4154-877d-4284dd19e5ae\",\"type\":\"SaveTool\"},{\"attributes\":{\"data_source\":{\"id\":\"74031cb5-bfad-4ac9-b338-332eb102de82\",\"type\":\"ColumnDataSource\"},\"glyph\":{\"id\":\"ba12e4ed-9118-4ebc-977d-a73234c57949\",\"type\":\"Circle\"},\"hover_glyph\":null,\"muted_glyph\":null,\"nonselection_glyph\":{\"id\":\"44c56a56-799b-4a92-b221-a678c057a9bb\",\"type\":\"Circle\"},\"selection_glyph\":null},\"id\":\"327ceb14-6d06-4e09-9b8e-3ce7abb661b7\",\"type\":\"GlyphRenderer\"},{\"attributes\":{\"fill_alpha\":{\"value\":0.1},\"fill_color\":{\"value\":\"#1f77b4\"},\"line_alpha\":{\"value\":0.1},\"line_color\":{\"value\":\"#1f77b4\"},\"size\":{\"units\":\"screen\",\"value\":8},\"x\":{\"field\":\"x1\"},\"y\":{\"field\":\"x2\"}},\"id\":\"44c56a56-799b-4a92-b221-a678c057a9bb\",\"type\":\"Circle\"},{\"attributes\":{\"plot\":{\"id\":\"f3ccb966-b495-402b-bb7d-1b6258719520\",\"subtype\":\"Figure\",\"type\":\"Plot\"},\"source\":{\"id\":\"74031cb5-bfad-4ac9-b338-332eb102de82\",\"type\":\"ColumnDataSource\"},\"text\":{\"field\":\"names\"},\"text_align\":\"center\",\"text_color\":{\"value\":\"#555555\"},\"text_font_size\":{\"value\":\"8pt\"},\"x\":{\"field\":\"x1\"},\"y\":{\"field\":\"x2\"},\"y_offset\":{\"value\":6}},\"id\":\"1db3093c-7701-4ee3-ab30-db293f0c5490\",\"type\":\"LabelSet\"},{\"attributes\":{\"below\":[{\"id\":\"dfc90281-89b7-4872-8c5d-3a8c39d02dbc\",\"type\":\"LinearAxis\"}],\"left\":[{\"id\":\"9a840e18-fa3d-4cc6-91d5-5d738493a611\",\"type\":\"LinearAxis\"}],\"renderers\":[{\"id\":\"dfc90281-89b7-4872-8c5d-3a8c39d02dbc\",\"type\":\"LinearAxis\"},{\"id\":\"fe1c7a6e-0872-4c43-9733-d3bb6887d034\",\"type\":\"Grid\"},{\"id\":\"9a840e18-fa3d-4cc6-91d5-5d738493a611\",\"type\":\"LinearAxis\"},{\"id\":\"bf81b8ca-fe48-45e9-98a0-7908141d8320\",\"type\":\"Grid\"},{\"id\":\"327ceb14-6d06-4e09-9b8e-3ce7abb661b7\",\"type\":\"GlyphRenderer\"},{\"id\":\"1db3093c-7701-4ee3-ab30-db293f0c5490\",\"type\":\"LabelSet\"}],\"title\":{\"id\":\"5b1098ee-a84c-47fc-9d2a-30480536a4cb\",\"type\":\"Title\"},\"tool_events\":{\"id\":\"76db7981-ad82-4a4e-b718-b322392281d4\",\"type\":\"ToolEvents\"},\"toolbar\":{\"id\":\"efeec780-b513-4a9e-936d-fe5fba810d15\",\"type\":\"Toolbar\"},\"toolbar_location\":\"above\",\"x_range\":{\"id\":\"2c058c6e-4b6a-4485-a5a1-15495e4f990d\",\"type\":\"DataRange1d\"},\"x_scale\":{\"id\":\"a41475ef-56e3-4275-8d9a-07968b7a6b45\",\"type\":\"LinearScale\"},\"y_range\":{\"id\":\"f15be1ea-be4d-4ab1-a659-b01db5cddea3\",\"type\":\"DataRange1d\"},\"y_scale\":{\"id\":\"c20ec726-6797-4089-85a3-b90ea6944db9\",\"type\":\"LinearScale\"}},\"id\":\"f3ccb966-b495-402b-bb7d-1b6258719520\",\"subtype\":\"Figure\",\"type\":\"Plot\"},{\"attributes\":{\"callback\":null,\"column_names\":[\"x1\",\"x2\",\"names\"],\"data\":{\"names\":[\"the\",\"and\",\"to\",\"of\",\"a\",\"that\",\"i\",\"in\",\"it\",\"you\",\"we\",\"is\",\"s\",\"this\",\"so\",\"they\",\"was\",\"for\",\"are\",\"have\",\"but\",\"what\",\"on\",\"with\",\"can\",\"t\",\"about\",\"there\",\"be\",\"as\",\"at\",\"all\",\"not\",\"do\",\"my\",\"one\",\"re\",\"people\",\"like\",\"if\",\"from\",\"now\",\"our\",\"he\",\"an\",\"just\",\"these\",\"or\",\"when\",\"because\",\"very\",\"me\",\"out\",\"by\",\"them\",\"how\",\"know\",\"up\",\"going\",\"had\",\"more\",\"think\",\"who\",\"were\",\"see\",\"your\",\"their\",\"which\",\"would\",\"here\",\"really\",\"get\",\"ve\",\"then\",\"m\",\"world\",\"us\",\"time\",\"some\",\"has\",\"don\",\"actually\",\"into\",\"way\",\"where\",\"will\",\"years\",\"things\",\"other\",\"no\",\"could\",\"go\",\"well\",\"want\",\"been\",\"make\",\"right\",\"she\",\"said\",\"something\",\"those\",\"first\",\"two\",\"than\",\"much\",\"also\",\"look\",\"new\",\"thing\",\"little\",\"got\",\"back\",\"over\",\"most\",\"say\",\"even\",\"his\",\"life\",\"only\",\"work\",\"many\",\"take\",\"need\",\"did\",\"lot\",\"kind\",\"why\",\"good\",\"around\",\"every\",\"different\",\"down\",\"ll\",\"let\",\"her\",\"through\",\"same\",\"being\",\"come\",\"d\",\"day\",\"year\",\"three\",\"use\",\"doing\",\"put\",\"called\",\"any\",\"today\",\"percent\",\"made\",\"after\",\"thank\",\"tell\",\"great\",\"human\",\"find\",\"didn\",\"fact\",\"talk\",\"change\",\"started\",\"another\",\"idea\",\"big\",\"last\",\"own\",\"before\",\"its\",\"never\",\"should\",\"better\",\"give\",\"thought\",\"went\",\"might\",\"important\",\"000\",\"again\",\"able\",\"together\",\"still\",\"problem\",\"off\",\"next\",\"part\",\"course\",\"system\",\"him\",\"does\",\"each\",\"start\",\"show\",\"long\",\"ago\",\"story\",\"came\",\"brain\",\"few\",\"bit\",\"between\",\"used\",\"place\",\"technology\",\"women\",\"too\",\"old\",\"mean\",\"data\",\"water\",\"looking\",\"question\",\"maybe\",\"found\",\"love\",\"doesn\",\"end\",\"example\",\"10\",\"done\",\"point\",\"four\",\"real\",\"wanted\",\"ever\",\"school\",\"understand\",\"sort\",\"live\",\"call\",\"whole\",\"children\",\"always\",\"trying\",\"may\",\"person\",\"away\",\"believe\",\"feel\",\"try\",\"million\",\"working\",\"help\",\"everything\",\"five\",\"country\",\"thinking\",\"second\",\"using\",\"information\",\"money\",\"means\",\"power\",\"took\",\"times\",\"high\",\"space\",\"number\",\"kids\",\"home\",\"become\",\"create\",\"small\",\"design\",\"making\",\"best\",\"left\",\"getting\",\"future\",\"enough\",\"man\",\"quite\",\"city\",\"without\",\"sense\",\"happened\",\"comes\",\"social\",\"probably\",\"less\",\"light\",\"talking\",\"energy\",\"am\",\"building\",\"science\",\"food\",\"body\",\"told\",\"interesting\",\"ask\",\"half\",\"pretty\",\"hard\",\"play\",\"anything\",\"lives\",\"countries\",\"coming\",\"such\",\"family\",\"stuff\",\"dollars\",\"earth\",\"moment\",\"20\",\"imagine\",\"across\",\"side\",\"while\",\"saw\",\"happen\",\"once\",\"okay\",\"build\",\"having\",\"men\",\"later\",\"experience\",\"makes\",\"asked\",\"living\",\"seen\",\"says\",\"room\",\"hand\",\"simple\",\"health\",\"ways\",\"else\",\"case\",\"yet\",\"almost\",\"young\",\"days\",\"nothing\",\"care\",\"bad\",\"happens\",\"goes\",\"move\",\"states\",\"reason\",\"computer\",\"open\",\"learn\",\"africa\",\"process\",\"inside\",\"someone\",\"six\",\"far\",\"mind\",\"project\",\"remember\",\"single\",\"picture\",\"both\",\"whether\",\"problems\",\"saying\",\"community\",\"basically\",\"already\",\"within\",\"looked\",\"myself\",\"billion\",\"often\",\"possible\",\"business\",\"planet\",\"global\",\"everybody\",\"top\",\"sure\",\"public\",\"set\",\"wrong\",\"car\",\"book\",\"keep\",\"yes\",\"answer\",\"oh\",\"hope\",\"sometimes\",\"true\",\"history\",\"war\",\"guy\",\"child\",\"instead\",\"months\",\"ideas\",\"looks\",\"matter\",\"government\",\"amazing\",\"united\",\"since\",\"bring\",\"age\",\"cells\",\"job\",\"heard\",\"until\",\"face\",\"wasn\",\"100\",\"read\",\"control\",\"isn\",\"research\",\"30\",\"words\",\"u\",\"group\",\"under\",\"self\",\"somebody\",\"built\",\"state\",\"woman\",\"turn\",\"friends\",\"beautiful\",\"line\",\"knew\",\"couple\",\"order\",\"form\",\"yeah\",\"internet\",\"middle\",\"music\",\"piece\",\"nature\",\"head\",\"though\",\"stop\",\"everyone\",\"50\",\"places\",\"video\",\"learned\",\"language\",\"run\",\"night\",\"decided\",\"study\",\"word\",\"cancer\",\"taking\",\"works\",\"became\",\"exactly\",\"species\",\"society\",\"completely\",\"education\",\"against\",\"stories\",\"large\",\"share\",\"level\",\"heart\",\"america\",\"model\",\"questions\",\"gets\",\"mother\",\"god\",\"company\",\"turns\",\"ourselves\",\"happening\",\"hear\",\"art\",\"themselves\",\"must\",\"itself\",\"rather\",\"kinds\",\"students\",\"name\",\"hours\",\"disease\",\"front\",\"house\",\"huge\",\"couldn\",\"created\",\"universe\",\"ok\",\"animals\",\"american\",\"environment\",\"worked\",\"minutes\",\"ones\",\"black\",\"perhaps\",\"1\",\"past\",\"third\",\"along\",\"others\",\"finally\",\"sound\",\"early\",\"game\",\"thousands\",\"century\",\"based\",\"least\",\"per\",\"ted\",\"lots\",\"figure\",\"free\",\"guys\",\"particular\",\"happy\",\"news\",\"learning\",\"entire\",\"won\",\"gave\",\"machine\",\"india\",\"during\",\"systems\",\"air\",\"difference\",\"outside\",\"natural\",\"taken\",\"seven\",\"given\",\"changed\",\"leave\",\"cell\",\"15\",\"close\",\"behind\",\"cities\",\"full\",\"scale\",\"difficult\",\"china\",\"takes\",\"companies\",\"yourself\",\"area\",\"reality\",\"seeing\",\"easy\",\"turned\",\"cost\",\"eyes\",\"team\",\"moving\",\"population\",\"culture\",\"york\",\"hands\",\"whatever\",\"began\",\"needs\",\"terms\",\"image\",\"simply\",\"needed\",\"beginning\",\"father\",\"local\",\"realized\",\"media\",\"death\",\"parents\",\"view\",\"walk\",\"white\",\"market\",\"parts\",\"ocean\",\"economic\",\"eight\",\"powerful\",\"known\",\"week\",\"size\",\"felt\",\"humans\",\"certain\",\"spend\",\"longer\",\"phone\",\"wonderful\",\"cannot\",\"grow\",\"common\",\"center\",\"tried\",\"fish\",\"land\",\"oil\",\"political\",\"interested\",\"deal\",\"red\",\"gone\",\"amount\",\"weeks\",\"spent\",\"opportunity\",\"paper\",\"lost\",\"national\",\"quickly\",\"blue\",\"step\",\"poor\",\"green\",\"buy\",\"growth\",\"wouldn\",\"either\",\"patients\",\"sitting\",\"ability\",\"changes\",\"write\",\"challenge\",\"south\",\"low\",\"growing\",\"friend\",\"field\",\"shows\",\"2\",\"born\",\"rest\",\"climate\",\"40\",\"test\",\"street\",\"surface\",\"incredible\",\"average\",\"physical\",\"morning\",\"scientists\",\"program\",\"pay\",\"value\",\"feeling\",\"hundreds\",\"girl\",\"met\",\"behavior\",\"economy\",\"dna\",\"complex\",\"access\",\"risk\",\"animal\",\"structure\",\"feet\",\"attention\",\"areas\",\"anyone\",\"deep\",\"watch\",\"short\",\"absolutely\",\"speak\",\"brought\",\"die\",\"bottom\",\"numbers\",\"audience\",\"stage\",\"realize\",\"law\",\"images\",\"wrote\",\"understanding\",\"knowledge\",\"literally\",\"books\",\"movement\",\"ground\",\"giving\",\"eat\",\"force\",\"seems\",\"alone\",\"telling\",\"starting\",\"hold\",\"nice\",\"forward\",\"sea\",\"developed\",\"individual\",\"kid\",\"millions\",\"support\",\"miles\",\"tools\",\"running\",\"online\",\"result\",\"act\",\"medical\",\"technologies\",\"north\",\"lab\",\"development\",\"blood\",\"fear\",\"nobody\",\"map\",\"personal\",\"issue\",\"voice\",\"material\",\"key\",\"12\",\"recently\",\"theory\",\"cut\",\"cars\",\"sun\",\"fast\",\"changing\",\"playing\",\"clear\",\"especially\",\"soon\",\"girls\",\"patient\",\"choice\",\"fly\",\"creating\",\"normal\",\"discovered\",\"europe\",\"talked\",\"relationship\",\"gives\",\"generation\",\"dark\",\"type\",\"showed\",\"chance\",\"seem\",\"industry\",\"asking\",\"rate\",\"fun\",\"issues\",\"color\",\"designed\",\"hour\",\"university\",\"innovation\",\"several\",\"class\",\"computers\",\"english\",\"tiny\",\"allow\",\"save\",\"focus\",\"digital\",\"solve\",\"developing\",\"network\",\"film\",\"special\",\"wall\",\"situation\",\"baby\",\"solution\",\"reasons\",\"box\",\"knows\",\"meet\",\"dead\",\"stand\",\"begin\",\"haven\",\"impact\",\"anybody\",\"term\",\"beyond\",\"pictures\",\"please\",\"ice\",\"produce\",\"shape\",\"non\",\"resources\",\"robot\",\"cool\",\"groups\",\"likely\",\"stay\",\"available\",\"truth\",\"rights\",\"major\",\"cause\",\"evidence\",\"obviously\",\"writing\",\"experiment\",\"modern\",\"drug\",\"becomes\",\"incredibly\",\"aren\",\"bigger\",\"guess\",\"nine\",\"product\",\"drugs\",\"lived\",\"involved\",\"perfect\",\"google\",\"month\",\"effect\",\"similar\",\"putting\",\"eye\",\"pick\",\"message\",\"quality\",\"violence\",\"web\",\"evolution\",\"security\",\"office\",\"basic\",\"solar\",\"indeed\",\"general\",\"towards\",\"present\",\"drive\",\"send\",\"listen\",\"worth\",\"revolution\",\"explain\",\"hundred\",\"certainly\",\"died\",\"ready\",\"teach\",\"journey\",\"25\",\"hit\",\"walking\",\"led\",\"approach\",\"international\",\"200\",\"scientific\",\"games\",\"60\",\"potential\",\"crazy\",\"communities\",\"chinese\",\"device\",\"source\",\"camera\",\"rules\",\"sex\",\"carbon\",\"sounds\",\"boy\",\"reach\",\"starts\",\"examples\",\"west\",\"3\",\"success\",\"measure\",\"particularly\",\"software\",\"totally\",\"suddenly\",\"action\",\"college\",\"higher\",\"code\",\"eventually\",\"democracy\",\"among\",\"minute\",\"sit\",\"largest\",\"showing\",\"hospital\",\"notice\",\"period\",\"mass\",\"develop\",\"dream\",\"onto\",\"plants\",\"break\",\"add\",\"memory\",\"everywhere\",\"favorite\",\"11\",\"zero\",\"speed\",\"schools\",\"moved\",\"response\",\"wants\",\"extremely\",\"movie\",\"individuals\",\"table\",\"wait\",\"medicine\",\"follow\",\"anyway\",\"trust\",\"plant\",\"biggest\",\"watching\",\"organization\",\"creative\",\"road\",\"choose\",\"worse\",\"lead\",\"results\",\"500\",\"exciting\",\"grew\",\"materials\",\"jobs\",\"plan\",\"east\",\"poverty\",\"positive\",\"safe\",\"strong\",\"fall\",\"essentially\",\"object\",\"door\",\"son\",\"vision\",\"further\",\"happiness\",\"continue\",\"student\",\"doctor\",\"including\",\"named\",\"role\",\"objects\",\"extraordinary\",\"standing\",\"skin\",\"leaders\",\"usually\",\"african\",\"conversation\",\"projects\",\"allowed\",\"models\",\"supposed\",\"faster\",\"interest\",\"families\",\"police\",\"fight\",\"tree\",\"connected\",\"screen\",\"5\",\"cases\",\"goal\",\"somewhere\",\"finding\",\"buildings\",\"shown\"],\"x1\":{\"__ndarray__\":\"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\",\"dtype\":\"float64\",\"shape\":[1000]},\"x2\":{\"__ndarray__\":\"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\",\"dtype\":\"float64\",\"shape\":[1000]}}},\"id\":\"74031cb5-bfad-4ac9-b338-332eb102de82\",\"type\":\"ColumnDataSource\"},{\"attributes\":{\"plot\":null,\"text\":\"word2vec T-SNE for most common words\"},\"id\":\"5b1098ee-a84c-47fc-9d2a-30480536a4cb\",\"type\":\"Title\"},{\"attributes\":{},\"id\":\"76db7981-ad82-4a4e-b718-b322392281d4\",\"type\":\"ToolEvents\"}],\"root_ids\":[\"f3ccb966-b495-402b-bb7d-1b6258719520\"]},\"title\":\"Bokeh Application\",\"version\":\"0.12.6\"}};\n",
       "            var render_items = [{\"docid\":\"f3d38442-1695-4ee4-92eb-dedd146e520a\",\"elementid\":\"2d5251a8-62fd-420d-8b91-123fb6fc6777\",\"modelid\":\"f3ccb966-b495-402b-bb7d-1b6258719520\"}];\n",
       "            \n",
       "            Bokeh.embed.embed_items(docs_json, render_items);\n",
       "          };\n",
       "          if (document.readyState != \"loading\") fn();\n",
       "          else document.addEventListener(\"DOMContentLoaded\", fn);\n",
       "        })();\n",
       "      },\n",
       "      function(Bokeh) {\n",
       "      }\n",
       "    ];\n",
       "  \n",
       "    function run_inline_js() {\n",
       "      \n",
       "      if ((window.Bokeh !== undefined) || (force === true)) {\n",
       "        for (var i = 0; i < inline_js.length; i++) {\n",
       "          inline_js[i](window.Bokeh);\n",
       "        }if (force === true) {\n",
       "          display_loaded();\n",
       "        }} else if (Date.now() < window._bokeh_timeout) {\n",
       "        setTimeout(run_inline_js, 100);\n",
       "      } else if (!window._bokeh_failed_load) {\n",
       "        console.log(\"Bokeh: BokehJS failed to load within specified timeout.\");\n",
       "        window._bokeh_failed_load = true;\n",
       "      } else if (force !== true) {\n",
       "        var cell = $(document.getElementById(\"2d5251a8-62fd-420d-8b91-123fb6fc6777\")).parents('.cell').data().cell;\n",
       "        cell.output_area.append_execute_result(NB_LOAD_WARNING)\n",
       "      }\n",
       "  \n",
       "    }\n",
       "  \n",
       "    if (window._bokeh_is_loading === 0) {\n",
       "      console.log(\"Bokeh: BokehJS loaded, going straight to plotting\");\n",
       "      run_inline_js();\n",
       "    } else {\n",
       "      load_libs(js_urls, function() {\n",
       "        console.log(\"Bokeh: BokehJS plotting callback run at\", now());\n",
       "        run_inline_js();\n",
       "      });\n",
       "    }\n",
       "  }(this));\n",
       "</script>"
      ]
     },
     "metadata": {},
     "output_type": "display_data"
    }
   ],
   "source": [
    "p = figure(tools=\"pan,wheel_zoom,reset,save\",\n",
    "           toolbar_location=\"above\",\n",
    "           title=\"word2vec T-SNE for most common words\")\n",
    "\n",
    "source = ColumnDataSource(data=dict(x1=words_top_wiki_tsne[:,0],\n",
    "                                    x2=words_top_wiki_tsne[:,1],\n",
    "                                    names=top1000_word))\n",
    "\n",
    "p.scatter(x=\"x1\", y=\"x2\", size=8, source=source)\n",
    "\n",
    "labels = LabelSet(x=\"x1\", y=\"x2\", text=\"names\", y_offset=6,\n",
    "                  text_font_size=\"8pt\", text_color=\"#555555\",\n",
    "                  source=source, text_align='center')\n",
    "p.add_layout(labels)\n",
    "\n",
    "show(p)"
   ]
  }
 ],
 "metadata": {
  "kernelspec": {
   "display_name": "Python 3",
   "language": "python",
   "name": "python3"
  },
  "language_info": {
   "codemirror_mode": {
    "name": "ipython",
    "version": 3
   },
   "file_extension": ".py",
   "mimetype": "text/x-python",
   "name": "python",
   "nbconvert_exporter": "python",
   "pygments_lexer": "ipython3",
   "version": "3.6.1"
  }
 },
 "nbformat": 4,
 "nbformat_minor": 2
}
